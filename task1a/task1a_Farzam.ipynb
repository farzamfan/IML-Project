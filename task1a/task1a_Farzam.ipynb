{
 "cells": [
  {
   "cell_type": "code",
   "execution_count": 28,
   "metadata": {},
   "outputs": [],
   "source": [
    "import pandas as pd\n",
    "import numpy as np\n",
    "import matplotlib.pyplot as plt\n",
    "%matplotlib inline\n",
    "\n",
    "import sklearn as sklearn\n",
    "from sklearn.linear_model import Ridge\n",
    "from sklearn.metrics import mean_squared_error\n",
    "from sklearn.model_selection import cross_val_score"
   ]
  },
  {
   "cell_type": "code",
   "execution_count": 89,
   "metadata": {},
   "outputs": [],
   "source": [
    "#sorted(sklearn.metrics.SCORERS.keys())"
   ]
  },
  {
   "cell_type": "markdown",
   "metadata": {},
   "source": [
    "## Description\n",
    "In the below code, to avoid systematic error in recording samples, first the rows of the dataset are shuffled (using the numpy randomState). Then, for each value of alpha, using the cross_val_score a 10 fold cross validation is performed and the MSE is calculated on the 10th fold (leave out fold). Finally, the results are averages and reposted. "
   ]
  },
  {
   "cell_type": "code",
   "execution_count": 88,
   "metadata": {},
   "outputs": [
    {
     "name": "stdout",
     "output_type": "stream",
     "text": [
      "4.8683269757214145 for alpha=  0.01\n",
      "4.86807592107972 for alpha=  0.1\n",
      "4.881850105173318 for alpha=  1\n",
      "4.930190156079949 for alpha=  10\n",
      "5.019907842434908 for alpha=  100\n"
     ]
    }
   ],
   "source": [
    "train = pd.read_csv(\"./data/train.csv\")\n",
    "train = train.sample(frac=1,random_state=np.random.RandomState()).reset_index(drop=True)\n",
    "x_train = train.loc[:,'x1':'x13']\n",
    "y_train = train['y']\n",
    "\n",
    "RMSE = np.zeros([5,1],dtype=np.float64)\n",
    "reg = [0.01,0.1,1,10,100]\n",
    "for i in np.arange(5):\n",
    "    clf = Ridge(alpha=reg[i],normalize=False,max_iter=10000)\n",
    "    MSEs = cross_val_score(clf,x_train,y_train,cv=10,scoring=\"neg_mean_squared_error\")\n",
    "    \n",
    "    score = np.mean(np.sqrt(abs(MSEs)))\n",
    "    print(score,\"for alpha= \",reg[i])\n",
    "    RMSE[i]=score\n",
    "RMSE\n",
    "np.savetxt(\"./data/res_farzam.csv\",RMSE,delimiter=\",\")"
   ]
  },
  {
   "cell_type": "code",
   "execution_count": null,
   "metadata": {},
   "outputs": [],
   "source": []
  }
 ],
 "metadata": {
  "kernelspec": {
   "display_name": "Python 3",
   "language": "python",
   "name": "python3"
  },
  "language_info": {
   "codemirror_mode": {
    "name": "ipython",
    "version": 3
   },
   "file_extension": ".py",
   "mimetype": "text/x-python",
   "name": "python",
   "nbconvert_exporter": "python",
   "pygments_lexer": "ipython3",
   "version": "3.7.4"
  },
  "toc": {
   "base_numbering": 1,
   "nav_menu": {},
   "number_sections": true,
   "sideBar": true,
   "skip_h1_title": false,
   "title_cell": "Table of Contents",
   "title_sidebar": "Contents",
   "toc_cell": false,
   "toc_position": {},
   "toc_section_display": true,
   "toc_window_display": false
  },
  "varInspector": {
   "cols": {
    "lenName": 16,
    "lenType": 16,
    "lenVar": 40
   },
   "kernels_config": {
    "python": {
     "delete_cmd_postfix": "",
     "delete_cmd_prefix": "del ",
     "library": "var_list.py",
     "varRefreshCmd": "print(var_dic_list())"
    },
    "r": {
     "delete_cmd_postfix": ") ",
     "delete_cmd_prefix": "rm(",
     "library": "var_list.r",
     "varRefreshCmd": "cat(var_dic_list()) "
    }
   },
   "types_to_exclude": [
    "module",
    "function",
    "builtin_function_or_method",
    "instance",
    "_Feature"
   ],
   "window_display": false
  }
 },
 "nbformat": 4,
 "nbformat_minor": 2
}
