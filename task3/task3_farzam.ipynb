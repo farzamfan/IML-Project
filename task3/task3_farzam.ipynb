{
 "cells": [
  {
   "cell_type": "code",
   "execution_count": 3,
   "metadata": {},
   "outputs": [
    {
     "name": "stdout",
     "output_type": "stream",
     "text": [
      "The jupyternotify extension is already loaded. To reload it, use:\n",
      "  %reload_ext jupyternotify\n"
     ]
    }
   ],
   "source": [
    "import pandas as pd\n",
    "pd.set_option('display.max_rows', 500)\n",
    "pd.set_option('display.max_columns', 500)\n",
    "pd.set_option('display.width', 1000)\n",
    "import numpy as np\n",
    "import seaborn as sns\n",
    "import matplotlib.pyplot as plt\n",
    "%matplotlib inline\n",
    "\n",
    "%load_ext jupyternotify\n",
    "\n",
    "from sklearn.preprocessing import LabelEncoder\n",
    "from sklearn.model_selection import train_test_split\n",
    "from imblearn.over_sampling import SMOTE, ADASYN, RandomOverSampler\n",
    "from imblearn.under_sampling import RandomUnderSampler\n",
    "from sklearn.linear_model import LogisticRegression\n",
    "from sklearn.metrics import f1_score\n",
    "from sklearn.model_selection import GridSearchCV\n",
    "from sklearn.neural_network import MLPClassifier\n",
    "from sklearn.metrics import f1_score\n",
    "from sklearn.preprocessing import OneHotEncoder\n",
    "from sklearn.metrics import accuracy_score\n",
    "import keras\n",
    "from keras.models import Sequential\n",
    "from keras.layers import Dense\n",
    "from sklearn.metrics import roc_auc_score\n",
    "\n",
    "from task3_utils_niklas import *"
   ]
  },
  {
   "cell_type": "markdown",
   "metadata": {},
   "source": [
    "# Preprocessing"
   ]
  },
  {
   "cell_type": "code",
   "execution_count": 2,
   "metadata": {},
   "outputs": [],
   "source": [
    "train = pd.read_csv(\"./handout/train.csv\")\n",
    "# highly imbalanced classes\n",
    "# train.iloc[:,1].value_counts()\n",
    "train = pd.concat([train,train.Sequence.str.split(\"\",expand=True)],axis=1,ignore_index=True)\n",
    "train = train.drop(columns = {0,2,7})\n",
    "train.rename(columns={1:\"Active\",3:\"site1\",4:\"site2\",5:\"site3\",6:\"site4\"},inplace=True)"
   ]
  },
  {
   "cell_type": "markdown",
   "metadata": {},
   "source": [
    "The first step is to separate the letter from each other, creating a data frame with each site letter"
   ]
  },
  {
   "cell_type": "code",
   "execution_count": 8,
   "metadata": {},
   "outputs": [
    {
     "data": {
      "text/html": [
       "<div>\n",
       "<style scoped>\n",
       "    .dataframe tbody tr th:only-of-type {\n",
       "        vertical-align: middle;\n",
       "    }\n",
       "\n",
       "    .dataframe tbody tr th {\n",
       "        vertical-align: top;\n",
       "    }\n",
       "\n",
       "    .dataframe thead th {\n",
       "        text-align: right;\n",
       "    }\n",
       "</style>\n",
       "<table border=\"1\" class=\"dataframe\">\n",
       "  <thead>\n",
       "    <tr style=\"text-align: right;\">\n",
       "      <th></th>\n",
       "      <th>Active</th>\n",
       "      <th>site1</th>\n",
       "      <th>site2</th>\n",
       "      <th>site3</th>\n",
       "      <th>site4</th>\n",
       "    </tr>\n",
       "  </thead>\n",
       "  <tbody>\n",
       "    <tr>\n",
       "      <td>0</td>\n",
       "      <td>0</td>\n",
       "      <td>D</td>\n",
       "      <td>K</td>\n",
       "      <td>W</td>\n",
       "      <td>L</td>\n",
       "    </tr>\n",
       "    <tr>\n",
       "      <td>1</td>\n",
       "      <td>0</td>\n",
       "      <td>F</td>\n",
       "      <td>C</td>\n",
       "      <td>H</td>\n",
       "      <td>N</td>\n",
       "    </tr>\n",
       "    <tr>\n",
       "      <td>2</td>\n",
       "      <td>0</td>\n",
       "      <td>K</td>\n",
       "      <td>D</td>\n",
       "      <td>Q</td>\n",
       "      <td>P</td>\n",
       "    </tr>\n",
       "    <tr>\n",
       "      <td>3</td>\n",
       "      <td>0</td>\n",
       "      <td>F</td>\n",
       "      <td>N</td>\n",
       "      <td>W</td>\n",
       "      <td>I</td>\n",
       "    </tr>\n",
       "    <tr>\n",
       "      <td>4</td>\n",
       "      <td>0</td>\n",
       "      <td>N</td>\n",
       "      <td>K</td>\n",
       "      <td>R</td>\n",
       "      <td>M</td>\n",
       "    </tr>\n",
       "    <tr>\n",
       "      <td>...</td>\n",
       "      <td>...</td>\n",
       "      <td>...</td>\n",
       "      <td>...</td>\n",
       "      <td>...</td>\n",
       "      <td>...</td>\n",
       "    </tr>\n",
       "    <tr>\n",
       "      <td>111995</td>\n",
       "      <td>0</td>\n",
       "      <td>G</td>\n",
       "      <td>S</td>\n",
       "      <td>M</td>\n",
       "      <td>E</td>\n",
       "    </tr>\n",
       "    <tr>\n",
       "      <td>111996</td>\n",
       "      <td>0</td>\n",
       "      <td>D</td>\n",
       "      <td>L</td>\n",
       "      <td>P</td>\n",
       "      <td>T</td>\n",
       "    </tr>\n",
       "    <tr>\n",
       "      <td>111997</td>\n",
       "      <td>0</td>\n",
       "      <td>S</td>\n",
       "      <td>G</td>\n",
       "      <td>H</td>\n",
       "      <td>C</td>\n",
       "    </tr>\n",
       "    <tr>\n",
       "      <td>111998</td>\n",
       "      <td>0</td>\n",
       "      <td>K</td>\n",
       "      <td>I</td>\n",
       "      <td>G</td>\n",
       "      <td>T</td>\n",
       "    </tr>\n",
       "    <tr>\n",
       "      <td>111999</td>\n",
       "      <td>0</td>\n",
       "      <td>P</td>\n",
       "      <td>G</td>\n",
       "      <td>P</td>\n",
       "      <td>T</td>\n",
       "    </tr>\n",
       "  </tbody>\n",
       "</table>\n",
       "<p>112000 rows × 5 columns</p>\n",
       "</div>"
      ],
      "text/plain": [
       "        Active site1 site2 site3 site4\n",
       "0            0     D     K     W     L\n",
       "1            0     F     C     H     N\n",
       "2            0     K     D     Q     P\n",
       "3            0     F     N     W     I\n",
       "4            0     N     K     R     M\n",
       "...        ...   ...   ...   ...   ...\n",
       "111995       0     G     S     M     E\n",
       "111996       0     D     L     P     T\n",
       "111997       0     S     G     H     C\n",
       "111998       0     K     I     G     T\n",
       "111999       0     P     G     P     T\n",
       "\n",
       "[112000 rows x 5 columns]"
      ]
     },
     "execution_count": 8,
     "metadata": {},
     "output_type": "execute_result"
    }
   ],
   "source": [
    "train"
   ]
  },
  {
   "cell_type": "markdown",
   "metadata": {},
   "source": [
    "As an exploratory step, we try LabelEncoder and also SMOTE oversampler for the class imbalance"
   ]
  },
  {
   "cell_type": "code",
   "execution_count": 9,
   "metadata": {},
   "outputs": [],
   "source": [
    "import string\n",
    "string.ascii_uppercase\n",
    "\n",
    "# highly imbalanced classes\n",
    "# train.iloc[:,1].value_counts()\n",
    "le = LabelEncoder()\n",
    "le.fit_transform(list(string.ascii_uppercase))\n",
    "\n",
    "train.site1 = le.transform(train.site1)\n",
    "train.site2 = le.transform(train.site2)\n",
    "train.site3 = le.transform(train.site3)\n",
    "train.site4 = le.transform(train.site4)"
   ]
  },
  {
   "cell_type": "code",
   "execution_count": 10,
   "metadata": {},
   "outputs": [],
   "source": [
    "X = train.loc[:,\"site1\":\"site4\"]\n",
    "y = train[\"Active\"]\n",
    "X, y = SMOTE().fit_resample(X, y)\n",
    "X_train, X_test, y_train, y_test = train_test_split(X, y,test_size=0.1)"
   ]
  },
  {
   "cell_type": "code",
   "execution_count": 11,
   "metadata": {},
   "outputs": [
    {
     "data": {
      "text/html": [
       "<div>\n",
       "<style scoped>\n",
       "    .dataframe tbody tr th:only-of-type {\n",
       "        vertical-align: middle;\n",
       "    }\n",
       "\n",
       "    .dataframe tbody tr th {\n",
       "        vertical-align: top;\n",
       "    }\n",
       "\n",
       "    .dataframe thead th {\n",
       "        text-align: right;\n",
       "    }\n",
       "</style>\n",
       "<table border=\"1\" class=\"dataframe\">\n",
       "  <thead>\n",
       "    <tr style=\"text-align: right;\">\n",
       "      <th></th>\n",
       "      <th>site1</th>\n",
       "      <th>site2</th>\n",
       "      <th>site3</th>\n",
       "      <th>site4</th>\n",
       "    </tr>\n",
       "  </thead>\n",
       "  <tbody>\n",
       "    <tr>\n",
       "      <td>76367</td>\n",
       "      <td>18</td>\n",
       "      <td>15</td>\n",
       "      <td>21</td>\n",
       "      <td>17</td>\n",
       "    </tr>\n",
       "    <tr>\n",
       "      <td>30534</td>\n",
       "      <td>2</td>\n",
       "      <td>6</td>\n",
       "      <td>21</td>\n",
       "      <td>6</td>\n",
       "    </tr>\n",
       "    <tr>\n",
       "      <td>205006</td>\n",
       "      <td>24</td>\n",
       "      <td>7</td>\n",
       "      <td>6</td>\n",
       "      <td>0</td>\n",
       "    </tr>\n",
       "    <tr>\n",
       "      <td>112915</td>\n",
       "      <td>16</td>\n",
       "      <td>2</td>\n",
       "      <td>24</td>\n",
       "      <td>6</td>\n",
       "    </tr>\n",
       "    <tr>\n",
       "      <td>151936</td>\n",
       "      <td>22</td>\n",
       "      <td>2</td>\n",
       "      <td>11</td>\n",
       "      <td>2</td>\n",
       "    </tr>\n",
       "    <tr>\n",
       "      <td>...</td>\n",
       "      <td>...</td>\n",
       "      <td>...</td>\n",
       "      <td>...</td>\n",
       "      <td>...</td>\n",
       "    </tr>\n",
       "    <tr>\n",
       "      <td>196053</td>\n",
       "      <td>3</td>\n",
       "      <td>24</td>\n",
       "      <td>24</td>\n",
       "      <td>6</td>\n",
       "    </tr>\n",
       "    <tr>\n",
       "      <td>71567</td>\n",
       "      <td>6</td>\n",
       "      <td>17</td>\n",
       "      <td>19</td>\n",
       "      <td>10</td>\n",
       "    </tr>\n",
       "    <tr>\n",
       "      <td>145724</td>\n",
       "      <td>22</td>\n",
       "      <td>17</td>\n",
       "      <td>5</td>\n",
       "      <td>2</td>\n",
       "    </tr>\n",
       "    <tr>\n",
       "      <td>132231</td>\n",
       "      <td>12</td>\n",
       "      <td>18</td>\n",
       "      <td>6</td>\n",
       "      <td>2</td>\n",
       "    </tr>\n",
       "    <tr>\n",
       "      <td>63141</td>\n",
       "      <td>0</td>\n",
       "      <td>21</td>\n",
       "      <td>16</td>\n",
       "      <td>0</td>\n",
       "    </tr>\n",
       "  </tbody>\n",
       "</table>\n",
       "<p>194016 rows × 4 columns</p>\n",
       "</div>"
      ],
      "text/plain": [
       "        site1  site2  site3  site4\n",
       "76367      18     15     21     17\n",
       "30534       2      6     21      6\n",
       "205006     24      7      6      0\n",
       "112915     16      2     24      6\n",
       "151936     22      2     11      2\n",
       "...       ...    ...    ...    ...\n",
       "196053      3     24     24      6\n",
       "71567       6     17     19     10\n",
       "145724     22     17      5      2\n",
       "132231     12     18      6      2\n",
       "63141       0     21     16      0\n",
       "\n",
       "[194016 rows x 4 columns]"
      ]
     },
     "execution_count": 11,
     "metadata": {},
     "output_type": "execute_result"
    }
   ],
   "source": [
    "X_train"
   ]
  },
  {
   "cell_type": "markdown",
   "metadata": {},
   "source": [
    "# Model Fitting"
   ]
  },
  {
   "cell_type": "markdown",
   "metadata": {},
   "source": [
    "## Elasticnet approach"
   ]
  },
  {
   "cell_type": "markdown",
   "metadata": {},
   "source": [
    "First, we try the elasticnet approach (which is a combination of Lasso and Rigde). We cross validate across different ratios to find the best hyperparameter setups"
   ]
  },
  {
   "cell_type": "code",
   "execution_count": 12,
   "metadata": {},
   "outputs": [
    {
     "name": "stdout",
     "output_type": "stream",
     "text": [
      "Fitting 5 folds for each of 7 candidates, totalling 35 fits\n"
     ]
    },
    {
     "name": "stderr",
     "output_type": "stream",
     "text": [
      "[Parallel(n_jobs=-1)]: Using backend LokyBackend with 8 concurrent workers.\n",
      "[Parallel(n_jobs=-1)]: Done  35 out of  35 | elapsed:   12.5s finished\n"
     ]
    }
   ],
   "source": [
    "penalty = ['elasticnet']\n",
    "C = [2**-1, 2**1, 2**3, 2**5, 2**7, 2**9, 2**11]\n",
    "hyperparameters = dict(C=C, penalty=penalty)\n",
    "clf = GridSearchCV(LogisticRegression(solver = \"saga\",class_weight = \"balanced\",l1_ratio=1),\n",
    "                   hyperparameters, cv=5, verbose=1,n_jobs=-1)\n",
    "best_model = clf.fit(X_train, y_train)"
   ]
  },
  {
   "cell_type": "code",
   "execution_count": 13,
   "metadata": {},
   "outputs": [
    {
     "name": "stdout",
     "output_type": "stream",
     "text": [
      "LogisticRegression(C=32, class_weight='balanced', dual=False,\n",
      "                   fit_intercept=True, intercept_scaling=1, l1_ratio=1,\n",
      "                   max_iter=100, multi_class='auto', n_jobs=None,\n",
      "                   penalty='elasticnet', random_state=None, solver='saga',\n",
      "                   tol=0.0001, verbose=0, warm_start=False)\n"
     ]
    },
    {
     "data": {
      "text/plain": [
       "0.7011328897680275"
      ]
     },
     "execution_count": 13,
     "metadata": {},
     "output_type": "execute_result"
    }
   ],
   "source": [
    "print(best_model.best_estimator_)\n",
    "f1_score(y_test, best_model.predict(X_test))"
   ]
  },
  {
   "cell_type": "markdown",
   "metadata": {},
   "source": [
    "The results we disappointing, so we will attempt another approach"
   ]
  },
  {
   "cell_type": "markdown",
   "metadata": {},
   "source": [
    "## ANN Preprocessing"
   ]
  },
  {
   "cell_type": "code",
   "execution_count": 15,
   "metadata": {},
   "outputs": [],
   "source": [
    "train = pd.read_csv(\"./handout/train.csv\")\n",
    "train = pd.concat([train,train.Sequence.str.split(\"\",expand=True)],axis=1,ignore_index=True)\n",
    "train = train.drop(columns = {0,2,7})\n",
    "train.rename(columns={1:\"Active\",3:\"site1\",4:\"site2\",5:\"site3\",6:\"site4\"},inplace=True)\n",
    "\n",
    "test = pd.read_csv('./handout/test.csv')\n",
    "test = pd.concat([test,test.Sequence.str.split(\"\",expand=True)],axis=1,ignore_index=True)\n",
    "test = test.drop(columns = {0,1,6})\n",
    "test.rename(columns={2:\"site1\",3:\"site2\",4:\"site3\",5:\"site4\"},inplace=True)"
   ]
  },
  {
   "cell_type": "markdown",
   "metadata": {},
   "source": [
    "For this approach, we use the one hot vector approach, which create vectors of length(unique(classes)) and for each observation, sets the value of its class to 1, and rest to 0"
   ]
  },
  {
   "cell_type": "code",
   "execution_count": 16,
   "metadata": {},
   "outputs": [],
   "source": [
    "# One-hot-encoder: train set\n",
    "X = train.loc[:,'site1':]\n",
    "y = train.loc[:,'Active']\n",
    "\n",
    "ohe = OneHotEncoder()\n",
    "X = ohe.fit_transform(X).toarray()"
   ]
  },
  {
   "cell_type": "code",
   "execution_count": 17,
   "metadata": {},
   "outputs": [],
   "source": [
    "# One-hot-encoder: test set\n",
    "X_ = test.loc[:,'site1':]\n",
    "X_ = ohe.transform(X_).toarray()"
   ]
  },
  {
   "cell_type": "code",
   "execution_count": 18,
   "metadata": {},
   "outputs": [],
   "source": [
    "# class imbalance and train-test split\n",
    "ros = RandomOverSampler(random_state=0)\n",
    "X, y = ros.fit_resample(X,y)\n",
    "X_train,X_test,y_train,y_test= train_test_split(X,y,test_size=0.1,random_state=0)"
   ]
  },
  {
   "cell_type": "code",
   "execution_count": 23,
   "metadata": {},
   "outputs": [
    {
     "name": "stdout",
     "output_type": "stream",
     "text": [
      "(194016, 80)\n"
     ]
    }
   ],
   "source": [
    "print(pd.DataFrame(X_train).shape)"
   ]
  },
  {
   "cell_type": "markdown",
   "metadata": {},
   "source": [
    "## MLP sklearn"
   ]
  },
  {
   "cell_type": "markdown",
   "metadata": {},
   "source": [
    "First, we try a non-tuned MLP classifier:"
   ]
  },
  {
   "cell_type": "code",
   "execution_count": 24,
   "metadata": {},
   "outputs": [
    {
     "name": "stdout",
     "output_type": "stream",
     "text": [
      "Iteration 1, loss = 0.17894362\n",
      "Iteration 2, loss = 0.06880669\n",
      "Iteration 3, loss = 0.04921786\n",
      "Iteration 4, loss = 0.04026760\n",
      "Iteration 5, loss = 0.03502176\n",
      "Iteration 6, loss = 0.03107393\n",
      "Iteration 7, loss = 0.02828790\n",
      "Iteration 8, loss = 0.02606608\n",
      "Iteration 9, loss = 0.02422389\n",
      "Iteration 10, loss = 0.02235044\n",
      "Iteration 11, loss = 0.02112169\n",
      "Iteration 12, loss = 0.01971965\n",
      "Iteration 13, loss = 0.01859136\n",
      "Iteration 14, loss = 0.01760540\n",
      "Iteration 15, loss = 0.01680168\n",
      "Iteration 16, loss = 0.01581384\n",
      "Iteration 17, loss = 0.01525181\n",
      "Iteration 18, loss = 0.01514601\n",
      "Iteration 19, loss = 0.01427252\n",
      "Iteration 20, loss = 0.01392648\n",
      "Iteration 21, loss = 0.01314179\n",
      "Iteration 22, loss = 0.01282813\n",
      "Iteration 23, loss = 0.01260365\n",
      "Iteration 24, loss = 0.01223055\n",
      "Iteration 25, loss = 0.01185170\n",
      "Iteration 26, loss = 0.01127747\n",
      "Iteration 27, loss = 0.01100604\n",
      "Iteration 28, loss = 0.01061408\n",
      "Iteration 29, loss = 0.01058282\n",
      "Iteration 30, loss = 0.00993527\n",
      "Iteration 31, loss = 0.01012650\n",
      "Iteration 32, loss = 0.00970172\n",
      "Iteration 33, loss = 0.00923435\n",
      "Iteration 34, loss = 0.00931149\n",
      "Iteration 35, loss = 0.00903242\n",
      "Iteration 36, loss = 0.00865101\n",
      "Iteration 37, loss = 0.00846869\n",
      "Iteration 38, loss = 0.00862075\n",
      "Iteration 39, loss = 0.00838784\n",
      "Iteration 40, loss = 0.00801328\n",
      "Iteration 41, loss = 0.00771006\n",
      "Iteration 42, loss = 0.00782989\n",
      "Iteration 43, loss = 0.00744797\n",
      "Iteration 44, loss = 0.00739936\n",
      "Iteration 45, loss = 0.00711045\n",
      "Iteration 46, loss = 0.00721776\n",
      "Iteration 47, loss = 0.00698068\n",
      "Iteration 48, loss = 0.00699181\n",
      "Iteration 49, loss = 0.00682448\n",
      "Iteration 50, loss = 0.00646640\n",
      "Iteration 51, loss = 0.00679267\n",
      "Iteration 52, loss = 0.00638036\n",
      "Iteration 53, loss = 0.00655865\n",
      "Iteration 54, loss = 0.00569599\n",
      "Iteration 55, loss = 0.00617766\n",
      "Iteration 56, loss = 0.00594842\n",
      "Iteration 57, loss = 0.00603464\n",
      "Iteration 58, loss = 0.00570513\n",
      "Iteration 59, loss = 0.00589895\n",
      "Iteration 60, loss = 0.00555397\n",
      "Iteration 61, loss = 0.00536035\n",
      "Iteration 62, loss = 0.00548093\n",
      "Iteration 63, loss = 0.00569238\n",
      "Iteration 64, loss = 0.00491319\n",
      "Iteration 65, loss = 0.00511670\n",
      "Iteration 66, loss = 0.00518296\n",
      "Iteration 67, loss = 0.00484598\n",
      "Iteration 68, loss = 0.00500925\n",
      "Iteration 69, loss = 0.00553288\n",
      "Iteration 70, loss = 0.00433594\n",
      "Iteration 71, loss = 0.00487623\n",
      "Iteration 72, loss = 0.00476471\n",
      "Iteration 73, loss = 0.00475663\n",
      "Iteration 74, loss = 0.00461502\n",
      "Iteration 75, loss = 0.00524154\n",
      "Iteration 76, loss = 0.00371140\n",
      "Iteration 77, loss = 0.00420338\n",
      "Iteration 78, loss = 0.00418457\n",
      "Iteration 79, loss = 0.00392471\n",
      "Iteration 80, loss = 0.00417667\n",
      "Iteration 81, loss = 0.00476868\n",
      "Iteration 82, loss = 0.00411275\n",
      "Iteration 83, loss = 0.00466405\n",
      "Iteration 84, loss = 0.00338315\n",
      "Iteration 85, loss = 0.00375649\n",
      "Iteration 86, loss = 0.00450522\n",
      "Iteration 87, loss = 0.00327226\n",
      "Iteration 88, loss = 0.00365635\n",
      "Iteration 89, loss = 0.00408404\n",
      "Iteration 90, loss = 0.00340755\n",
      "Iteration 91, loss = 0.00305332\n",
      "Iteration 92, loss = 0.00364028\n",
      "Iteration 93, loss = 0.00368245\n",
      "Iteration 94, loss = 0.00357695\n",
      "Iteration 95, loss = 0.00341245\n",
      "Iteration 96, loss = 0.00375293\n",
      "Iteration 97, loss = 0.00304109\n",
      "Iteration 98, loss = 0.00304258\n",
      "Iteration 99, loss = 0.00344647\n",
      "Iteration 100, loss = 0.00313975\n",
      "Iteration 101, loss = 0.00325914\n",
      "Iteration 102, loss = 0.00341223\n",
      "Training loss did not improve more than tol=0.000100 for 10 consecutive epochs. Stopping.\n"
     ]
    }
   ],
   "source": [
    "mlp = MLPClassifier(hidden_layer_sizes=(30,10),random_state=0,verbose=1)\n",
    "mlp.fit(X_train,y_train)\n",
    "predictions = mlp.predict(X_)"
   ]
  },
  {
   "cell_type": "code",
   "execution_count": 28,
   "metadata": {},
   "outputs": [
    {
     "name": "stdout",
     "output_type": "stream",
     "text": [
      "train f1 score:  0.9960354047575143\n",
      "train ROC score:  0.9996238354357325\n",
      "test ROC score:  0.996001859600186\n"
     ]
    }
   ],
   "source": [
    "print(\"train f1 score: \",f1_score(y_test,mlp.predict(X_test)))\n",
    "print(\"train ROC score: \",roc_auc_score(y_train,mlp.predict(X_train)))\n",
    "print(\"test ROC score: \",roc_auc_score(y_test,mlp.predict(X_test)))"
   ]
  },
  {
   "cell_type": "markdown",
   "metadata": {},
   "source": [
    "This approach overfits a lot, so we try some regularization, using dropouts and kernel regulizers"
   ]
  },
  {
   "cell_type": "markdown",
   "metadata": {},
   "source": [
    "## Keras"
   ]
  },
  {
   "cell_type": "code",
   "execution_count": 29,
   "metadata": {},
   "outputs": [],
   "source": [
    "from keras import backend as K\n",
    "def f1(y_true, y_pred):\n",
    "    def recall(y_true, y_pred):\n",
    "        \"\"\"Recall metric.\n",
    "\n",
    "        Only computes a batch-wise average of recall.\n",
    "\n",
    "        Computes the recall, a metric for multi-label classification of\n",
    "        how many relevant items are selected.\n",
    "        \"\"\"\n",
    "        true_positives = K.sum(K.round(K.clip(y_true * y_pred, 0, 1)))\n",
    "        possible_positives = K.sum(K.round(K.clip(y_true, 0, 1)))\n",
    "        recall = true_positives / (possible_positives + K.epsilon())\n",
    "        return recall\n",
    "\n",
    "    def precision(y_true, y_pred):\n",
    "        \"\"\"Precision metric.\n",
    "\n",
    "        Only computes a batch-wise average of precision.\n",
    "\n",
    "        Computes the precision, a metric for multi-label classification of\n",
    "        how many selected items are relevant.\n",
    "        \"\"\"\n",
    "        true_positives = K.sum(K.round(K.clip(y_true * y_pred, 0, 1)))\n",
    "        predicted_positives = K.sum(K.round(K.clip(y_pred, 0, 1)))\n",
    "        precision = true_positives / (predicted_positives + K.epsilon())\n",
    "        return precision\n",
    "    precision = precision(y_true, y_pred)\n",
    "    recall = recall(y_true, y_pred)\n",
    "    return 2*((precision*recall)/(precision+recall+K.epsilon()))\n"
   ]
  },
  {
   "cell_type": "markdown",
   "metadata": {},
   "source": [
    "The following deep network is discovered using trial and erros, we attempted different combinations, and TALOS package for hyperparameter optimization. \n",
    "The dropouts, kernel regulizers, and activations are used to avoid overfitting. So is the early stopping call."
   ]
  },
  {
   "cell_type": "code",
   "execution_count": 43,
   "metadata": {},
   "outputs": [],
   "source": [
    "from keras.layers import Dropout\n",
    "from keras.utils import to_categorical\n",
    "from keras.callbacks import EarlyStopping\n",
    "from tensorflow.keras import layers\n",
    "from tensorflow.keras import regularizers\n",
    "\n",
    "model = Sequential()\n",
    "model.add(Dense(100, input_dim=80, activation='relu'))\n",
    "model.add(Dense(100, activation='relu'))\n",
    "model.add(Dropout(0.5))\n",
    "model.add(Dense(50, activation='relu',kernel_regularizer=regularizers.l1_l2(l1=1e-1, l2=1e-1)))\n",
    "model.add(Dropout(0.5))\n",
    "model.add(Dense(100, activation='relu'))\n",
    "model.add(Dense(50, activation='relu',kernel_regularizer=regularizers.l1_l2(l1=1e-1, l2=1e-1)))\n",
    "model.add(Dropout(0.5))\n",
    "model.add(Dense(50, activation='relu'))\n",
    "model.add(Dense(2, activation='softmax'))\n",
    "\n",
    "usualCallback = EarlyStopping()\n",
    "overfitCallback = EarlyStopping(monitor='val_loss', min_delta=0.0005, patience = 20)\n",
    "\n",
    "model.compile(loss='categorical_crossentropy', optimizer='adam', metrics=[f1])"
   ]
  },
  {
   "cell_type": "code",
   "execution_count": 47,
   "metadata": {},
   "outputs": [
    {
     "name": "stdout",
     "output_type": "stream",
     "text": [
      "Train on 194016 samples, validate on 21558 samples\n",
      "Epoch 1/150\n",
      "194016/194016 [==============================] - 11s 56us/step - loss: 0.4502 - f1: 0.9832 - val_loss: 0.3505 - val_f1: 0.9903\n",
      "Epoch 2/150\n",
      "194016/194016 [==============================] - 11s 57us/step - loss: 0.4018 - f1: 0.9839 - val_loss: 0.2913 - val_f1: 0.9914\n",
      "Epoch 3/150\n",
      "194016/194016 [==============================] - 12s 63us/step - loss: 0.4418 - f1: 0.9831 - val_loss: 0.3489 - val_f1: 0.9917\n",
      "Epoch 4/150\n",
      "194016/194016 [==============================] - 11s 56us/step - loss: 0.4249 - f1: 0.9836 - val_loss: 0.3094 - val_f1: 0.9892\n",
      "Epoch 5/150\n",
      "194016/194016 [==============================] - 11s 57us/step - loss: 0.4733 - f1: 0.9840 - val_loss: 0.4445 - val_f1: 0.9910\n",
      "Epoch 6/150\n",
      "194016/194016 [==============================] - 12s 63us/step - loss: 0.4340 - f1: 0.9851 - val_loss: 0.4369 - val_f1: 0.9922\n",
      "Epoch 7/150\n",
      "194016/194016 [==============================] - 12s 62us/step - loss: 0.4444 - f1: 0.9861 - val_loss: 0.3960 - val_f1: 0.9911\n",
      "Epoch 8/150\n",
      "194016/194016 [==============================] - 12s 60us/step - loss: 0.3975 - f1: 0.9869 - val_loss: 0.3190 - val_f1: 0.9925\n",
      "Epoch 9/150\n",
      "194016/194016 [==============================] - 11s 59us/step - loss: 0.4210 - f1: 0.9867 - val_loss: 0.4304 - val_f1: 0.9887\n",
      "Epoch 10/150\n",
      "194016/194016 [==============================] - 11s 59us/step - loss: 0.4313 - f1: 0.9867 - val_loss: 0.3297 - val_f1: 0.9921\n",
      "Epoch 11/150\n",
      "194016/194016 [==============================] - 11s 56us/step - loss: 0.4661 - f1: 0.9893 - val_loss: 0.5172 - val_f1: 0.9931\n",
      "Epoch 12/150\n",
      "194016/194016 [==============================] - 11s 55us/step - loss: 0.4572 - f1: 0.9877 - val_loss: 0.5302 - val_f1: 0.9926\n",
      "Epoch 13/150\n",
      "194016/194016 [==============================] - 11s 56us/step - loss: 0.4545 - f1: 0.9889 - val_loss: 0.5948 - val_f1: 0.9921\n",
      "Epoch 14/150\n",
      "194016/194016 [==============================] - 11s 56us/step - loss: 0.4168 - f1: 0.9896 - val_loss: 0.6349 - val_f1: 0.9922\n",
      "Epoch 15/150\n",
      "194016/194016 [==============================] - 12s 62us/step - loss: 0.4449 - f1: 0.9891 - val_loss: 0.2916 - val_f1: 0.9924\n",
      "Epoch 16/150\n",
      "194016/194016 [==============================] - 11s 57us/step - loss: 0.4557 - f1: 0.9899 - val_loss: 0.3712 - val_f1: 0.9925\n",
      "Epoch 17/150\n",
      "194016/194016 [==============================] - 11s 57us/step - loss: 0.4580 - f1: 0.9905 - val_loss: 0.3215 - val_f1: 0.9904\n",
      "Epoch 18/150\n",
      "194016/194016 [==============================] - 10s 53us/step - loss: 0.4466 - f1: 0.9907 - val_loss: 0.3882 - val_f1: 0.9916\n",
      "Epoch 19/150\n",
      "194016/194016 [==============================] - 10s 52us/step - loss: 0.5533 - f1: 0.9914 - val_loss: 0.4908 - val_f1: 0.9927\n",
      "Epoch 20/150\n",
      "194016/194016 [==============================] - 10s 53us/step - loss: 0.4741 - f1: 0.9903 - val_loss: 0.6733 - val_f1: 0.9931\n",
      "Epoch 21/150\n",
      "194016/194016 [==============================] - 11s 55us/step - loss: 0.4517 - f1: 0.9907 - val_loss: 0.2745 - val_f1: 0.9932\n",
      "Epoch 22/150\n",
      "194016/194016 [==============================] - 11s 57us/step - loss: 0.5421 - f1: 0.9905 - val_loss: 0.4994 - val_f1: 0.9918\n",
      "Epoch 23/150\n",
      "194016/194016 [==============================] - 11s 57us/step - loss: 0.4819 - f1: 0.9922 - val_loss: 0.4231 - val_f1: 0.9930\n",
      "Epoch 24/150\n",
      "194016/194016 [==============================] - 11s 55us/step - loss: 0.6166 - f1: 0.9927 - val_loss: 0.7892 - val_f1: 0.9926\n",
      "Epoch 25/150\n",
      "194016/194016 [==============================] - 10s 54us/step - loss: 0.5072 - f1: 0.9927 - val_loss: 0.5519 - val_f1: 0.9933\n",
      "Epoch 26/150\n",
      "194016/194016 [==============================] - 12s 61us/step - loss: 0.5314 - f1: 0.9928 - val_loss: 0.6774 - val_f1: 0.9906\n",
      "Epoch 27/150\n",
      "194016/194016 [==============================] - 13s 65us/step - loss: 0.5904 - f1: 0.9927 - val_loss: 0.4802 - val_f1: 0.9941\n",
      "Epoch 28/150\n",
      "194016/194016 [==============================] - 13s 65us/step - loss: 0.4664 - f1: 0.9919 - val_loss: 0.4559 - val_f1: 0.9941\n",
      "Epoch 29/150\n",
      "194016/194016 [==============================] - 12s 63us/step - loss: 0.5401 - f1: 0.9913 - val_loss: 0.5481 - val_f1: 0.9940\n",
      "Epoch 30/150\n",
      "194016/194016 [==============================] - 12s 62us/step - loss: 0.5339 - f1: 0.9923 - val_loss: 0.8945 - val_f1: 0.9925\n",
      "Epoch 31/150\n",
      "194016/194016 [==============================] - 11s 57us/step - loss: 0.6465 - f1: 0.9927 - val_loss: 0.9407 - val_f1: 0.9936\n",
      "Epoch 32/150\n",
      "194016/194016 [==============================] - 11s 58us/step - loss: 0.5967 - f1: 0.9930 - val_loss: 0.4135 - val_f1: 0.9936\n",
      "Epoch 33/150\n",
      "194016/194016 [==============================] - 10s 53us/step - loss: 0.5273 - f1: 0.9928 - val_loss: 0.5368 - val_f1: 0.9923\n",
      "Epoch 34/150\n",
      "194016/194016 [==============================] - 10s 52us/step - loss: 0.6843 - f1: 0.9935 - val_loss: 0.3477 - val_f1: 0.9921\n",
      "Epoch 35/150\n",
      "194016/194016 [==============================] - 11s 56us/step - loss: 0.5528 - f1: 0.9939 - val_loss: 0.3681 - val_f1: 0.9925\n",
      "Epoch 36/150\n",
      "194016/194016 [==============================] - 10s 52us/step - loss: 0.6594 - f1: 0.9935 - val_loss: 0.6019 - val_f1: 0.9939\n",
      "Epoch 37/150\n",
      "194016/194016 [==============================] - 11s 57us/step - loss: 0.5472 - f1: 0.9940 - val_loss: 0.5147 - val_f1: 0.9924\n",
      "Epoch 38/150\n",
      "194016/194016 [==============================] - 11s 54us/step - loss: 0.6052 - f1: 0.9943 - val_loss: 1.1873 - val_f1: 0.9923\n",
      "Epoch 39/150\n",
      "194016/194016 [==============================] - 10s 52us/step - loss: 0.6697 - f1: 0.9940 - val_loss: 0.7091 - val_f1: 0.9930\n",
      "Epoch 40/150\n",
      "194016/194016 [==============================] - 10s 54us/step - loss: 0.5738 - f1: 0.9931 - val_loss: 0.4377 - val_f1: 0.9945\n",
      "Epoch 41/150\n",
      "194016/194016 [==============================] - 10s 52us/step - loss: 0.5791 - f1: 0.9936 - val_loss: 0.6550 - val_f1: 0.9933\n"
     ]
    }
   ],
   "source": [
    "history = model.fit(X_train, to_categorical(y_train),batch_size=32,validation_data = (X_test,to_categorical(y_test)), \n",
    "                    epochs=150,callbacks=[overfitCallback],class_weight='balanced')\n",
    "predictions = model.predict_classes(X_)"
   ]
  },
  {
   "cell_type": "code",
   "execution_count": 48,
   "metadata": {},
   "outputs": [
    {
     "name": "stdout",
     "output_type": "stream",
     "text": [
      "train f1 score:  0.9933164323576861\n",
      "train ROC score:  0.9964335820230306\n",
      "test ROC score:  0.9932647331420801\n"
     ]
    }
   ],
   "source": [
    "print(\"train f1 score: \",f1_score(y_test,model.predict_classes(X_test)))\n",
    "print(\"train ROC score: \",roc_auc_score(y_train,model.predict_classes(X_train)))\n",
    "print(\"test ROC score: \",roc_auc_score(y_test,model.predict_classes(X_test)))"
   ]
  },
  {
   "cell_type": "code",
   "execution_count": 49,
   "metadata": {},
   "outputs": [
    {
     "data": {
      "image/png": "[encoded data removed]",
      "text/plain": [
       "<Figure size 432x288 with 1 Axes>"
      ]
     },
     "metadata": {
      "needs_background": "light"
     },
     "output_type": "display_data"
    }
   ],
   "source": [
    "plt.plot(history.history['loss']) \n",
    "plt.plot(history.history['val_loss']) \n",
    "plt.title('Model loss') \n",
    "plt.ylabel('Loss') \n",
    "plt.xlabel('Epoch') \n",
    "plt.legend(['Train', 'Test'], loc='upper left') \n",
    "plt.show()"
   ]
  },
  {
   "cell_type": "markdown",
   "metadata": {},
   "source": [
    "# Write to file"
   ]
  },
  {
   "cell_type": "code",
   "execution_count": 50,
   "metadata": {},
   "outputs": [],
   "source": [
    "np.savetxt(\"./toSubmit/toSubmit-F.csv\", predictions,fmt='%3d', delimiter=\";\")"
   ]
  },
  {
   "cell_type": "code",
   "execution_count": null,
   "metadata": {},
   "outputs": [],
   "source": []
  },
  {
   "cell_type": "code",
   "execution_count": null,
   "metadata": {},
   "outputs": [],
   "source": []
  }
 ],
 "metadata": {
  "kernelspec": {
   "display_name": "Python 3.7.4 64-bit ('anaconda3': virtualenv)",
   "language": "python",
   "name": "python37464bitanaconda3virtualenv3a6dfbf17b7d4c6b84ddb97183ba27ff"
  },
  "language_info": {
   "codemirror_mode": {
    "name": "ipython",
    "version": 3
   },
   "file_extension": ".py",
   "mimetype": "text/x-python",
   "name": "python",
   "nbconvert_exporter": "python",
   "pygments_lexer": "ipython3",
   "version": "3.7.4"
  },
  "toc": {
   "base_numbering": 1,
   "nav_menu": {},
   "number_sections": true,
   "sideBar": true,
   "skip_h1_title": false,
   "title_cell": "Table of Contents",
   "title_sidebar": "Contents",
   "toc_cell": false,
   "toc_position": {},
   "toc_section_display": true,
   "toc_window_display": false
  },
  "varInspector": {
   "cols": {
    "lenName": 16,
    "lenType": 16,
    "lenVar": 40
   },
   "kernels_config": {
    "python": {
     "delete_cmd_postfix": "",
     "delete_cmd_prefix": "del ",
     "library": "var_list.py",
     "varRefreshCmd": "print(var_dic_list())"
    },
    "r": {
     "delete_cmd_postfix": ") ",
     "delete_cmd_prefix": "rm(",
     "library": "var_list.r",
     "varRefreshCmd": "cat(var_dic_list()) "
    }
   },
   "types_to_exclude": [
    "module",
    "function",
    "builtin_function_or_method",
    "instance",
    "_Feature"
   ],
   "window_display": false
  }
 },
 "nbformat": 4,
 "nbformat_minor": 2
}
